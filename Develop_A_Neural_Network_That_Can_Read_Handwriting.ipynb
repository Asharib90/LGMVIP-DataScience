{
  "nbformat": 4,
  "nbformat_minor": 0,
  "metadata": {
    "colab": {
      "name": "Develop A Neural Network That Can Read Handwriting.ipynb",
      "provenance": []
    },
    "kernelspec": {
      "name": "python3",
      "display_name": "Python 3"
    },
    "language_info": {
      "name": "python"
    },
    "accelerator": "GPU"
  },
  "cells": [
    {
      "cell_type": "code",
      "metadata": {
        "id": "NI7Um70ZadTm"
      },
      "source": [
        "import numpy as np\n",
        "import warnings\n",
        "import pandas as pd\n",
        "import seaborn as sns\n",
        "import matplotlib.pyplot as plt\n",
        "import tensorflow as tf\n",
        "from keras.utils.np_utils import to_categorical\n",
        "from keras.models import Sequential\n",
        "from keras.layers import Dense, Dropout, Flatten, Conv2D, MaxPool2D, BatchNormalization\n",
        "from tensorflow.keras.optimizers import RMSprop\n",
        "from keras.preprocessing.image import ImageDataGenerator\n",
        "from keras.callbacks import ReduceLROnPlateau\n",
        "\n",
        "%matplotlib inline\n",
        "warnings.filterwarnings('ignore')"
      ],
      "execution_count": null,
      "outputs": []
    },
    {
      "cell_type": "code",
      "metadata": {
        "id": "f-gNbI0a8fit"
      },
      "source": [
        "mnist = tf.keras.datasets.mnist"
      ],
      "execution_count": null,
      "outputs": []
    },
    {
      "cell_type": "code",
      "metadata": {
        "colab": {
          "base_uri": "https://localhost:8080/"
        },
        "id": "ckysXL_XbdTE",
        "outputId": "be7e3c7b-85a0-41ca-e3a9-8b500bdf616c"
      },
      "source": [
        "(training_images, training_labels), (test_images, test_labels) = mnist.load_data()"
      ],
      "execution_count": null,
      "outputs": [
        {
          "output_type": "stream",
          "name": "stdout",
          "text": [
            "Downloading data from https://storage.googleapis.com/tensorflow/tf-keras-datasets/mnist.npz\n",
            "11493376/11490434 [==============================] - 0s 0us/step\n",
            "11501568/11490434 [==============================] - 0s 0us/step\n"
          ]
        }
      ]
    },
    {
      "cell_type": "code",
      "metadata": {
        "colab": {
          "base_uri": "https://localhost:8080/",
          "height": 376
        },
        "id": "OrSO2oAdbmsk",
        "outputId": "ebab9770-faa5-4b33-8d1d-41af9354ea1b"
      },
      "source": [
        "plt.figure(figsize=(5,5))\n",
        "g = sns.countplot(training_labels)\n",
        "plt.show()"
      ],
      "execution_count": null,
      "outputs": [
        {
          "output_type": "stream",
          "name": "stderr",
          "text": [
            "/usr/local/lib/python3.7/dist-packages/seaborn/_decorators.py:43: FutureWarning: Pass the following variable as a keyword arg: x. From version 0.12, the only valid positional argument will be `data`, and passing other arguments without an explicit keyword will result in an error or misinterpretation.\n",
            "  FutureWarning\n"
          ]
        },
        {
          "output_type": "display_data",
          "data": {
            "image/png": "[encoded data removed]",
            "text/plain": [
              "<Figure size 360x360 with 1 Axes>"
            ]
          },
          "metadata": {
            "needs_background": "light"
          }
        }
      ]
    },
    {
      "cell_type": "code",
      "metadata": {
        "colab": {
          "base_uri": "https://localhost:8080/",
          "height": 282
        },
        "id": "7dfrAXjecm35",
        "outputId": "91a35457-37b7-4f70-f267-67544533b95e"
      },
      "source": [
        "plt.imshow(training_images[0])\n",
        "print(training_labels[0])\n",
        "# print(training_images[0])"
      ],
      "execution_count": null,
      "outputs": [
        {
          "output_type": "stream",
          "name": "stdout",
          "text": [
            "5\n"
          ]
        },
        {
          "output_type": "display_data",
          "data": {
            "image/png": "[encoded data removed]",
            "text/plain": [
              "<Figure size 432x288 with 1 Axes>"
            ]
          },
          "metadata": {
            "needs_background": "light"
          }
        }
      ]
    },
    {
      "cell_type": "code",
      "metadata": {
        "id": "8Vo8ortGdXPc"
      },
      "source": [
        "training_images = training_images.reshape(60000,28,28,1)\n",
        "test_images = test_images.reshape(10000,28,28,1)"
      ],
      "execution_count": null,
      "outputs": []
    },
    {
      "cell_type": "code",
      "metadata": {
        "id": "46G61udfyluQ"
      },
      "source": [
        "random_seed = 2"
      ],
      "execution_count": null,
      "outputs": []
    },
    {
      "cell_type": "code",
      "metadata": {
        "id": "1TQt2NsikEgK"
      },
      "source": [
        "training_images  = training_images / 255.0\n",
        "test_images = test_images / 255.0"
      ],
      "execution_count": null,
      "outputs": []
    },
    {
      "cell_type": "code",
      "metadata": {
        "id": "mK7EM6z64kdg"
      },
      "source": [
        "training_labels = to_categorical(training_labels, num_classes = 10)\n",
        "test_labels = to_categorical(test_labels, num_classes = 10)"
      ],
      "execution_count": null,
      "outputs": []
    },
    {
      "cell_type": "code",
      "metadata": {
        "colab": {
          "base_uri": "https://localhost:8080/"
        },
        "id": "Ujq4zIwG6pfE",
        "outputId": "06e9ea22-9805-4524-e1c4-b081f68ad8f0"
      },
      "source": [
        "test_labels[0]"
      ],
      "execution_count": null,
      "outputs": [
        {
          "output_type": "execute_result",
          "data": {
            "text/plain": [
              "array([0., 0., 0., 0., 0., 0., 0., 1., 0., 0.], dtype=float32)"
            ]
          },
          "metadata": {},
          "execution_count": 21
        }
      ]
    },
    {
      "cell_type": "code",
      "metadata": {
        "colab": {
          "base_uri": "https://localhost:8080/"
        },
        "id": "2s7NXKxUzjZE",
        "outputId": "4b364055-1e41-49f5-f184-1467a3167bfc"
      },
      "source": [
        "model = Sequential()\n",
        "\n",
        "model.add(Conv2D(filters = 32, kernel_size = (5,5),padding = 'Same', \n",
        "                 activation ='relu', input_shape = (28,28,1)))\n",
        "model.add(BatchNormalization())\n",
        "model.add(Conv2D(filters = 32, kernel_size = (5,5),padding = 'Same', \n",
        "                 activation ='relu'))\n",
        "model.add(BatchNormalization())\n",
        "model.add(MaxPool2D(pool_size=(2,2)))\n",
        "# model.add(Dropout(0.25))\n",
        "\n",
        "\n",
        "model.add(Conv2D(filters = 64, kernel_size = (3,3),padding = 'Same', \n",
        "                 activation ='relu'))\n",
        "model.add(BatchNormalization())\n",
        "model.add(Conv2D(filters = 64, kernel_size = (3,3),padding = 'Same', \n",
        "                 activation ='relu'))\n",
        "model.add(BatchNormalization())\n",
        "model.add(MaxPool2D(pool_size=(2,2), strides=(2,2)))\n",
        "# model.add(Dropout(0.25))\n",
        "\n",
        "\n",
        "model.add(Flatten())\n",
        "model.add(Dense(256, activation = \"relu\"))\n",
        "model.add(Dropout(0.5))\n",
        "model.add(Dense(10, activation = \"softmax\"))\n",
        "model.summary()"
      ],
      "execution_count": null,
      "outputs": [
        {
          "output_type": "stream",
          "name": "stdout",
          "text": [
            "Model: \"sequential_1\"\n",
            "_________________________________________________________________\n",
            "Layer (type)                 Output Shape              Param #   \n",
            "=================================================================\n",
            "conv2d_4 (Conv2D)            (None, 28, 28, 32)        832       \n",
            "_________________________________________________________________\n",
            "batch_normalization_4 (Batch (None, 28, 28, 32)        128       \n",
            "_________________________________________________________________\n",
            "conv2d_5 (Conv2D)            (None, 28, 28, 32)        25632     \n",
            "_________________________________________________________________\n",
            "batch_normalization_5 (Batch (None, 28, 28, 32)        128       \n",
            "_________________________________________________________________\n",
            "max_pooling2d_2 (MaxPooling2 (None, 14, 14, 32)        0         \n",
            "_________________________________________________________________\n",
            "conv2d_6 (Conv2D)            (None, 14, 14, 64)        18496     \n",
            "_________________________________________________________________\n",
            "batch_normalization_6 (Batch (None, 14, 14, 64)        256       \n",
            "_________________________________________________________________\n",
            "conv2d_7 (Conv2D)            (None, 14, 14, 64)        36928     \n",
            "_________________________________________________________________\n",
            "batch_normalization_7 (Batch (None, 14, 14, 64)        256       \n",
            "_________________________________________________________________\n",
            "max_pooling2d_3 (MaxPooling2 (None, 7, 7, 64)          0         \n",
            "_________________________________________________________________\n",
            "flatten_1 (Flatten)          (None, 3136)              0         \n",
            "_________________________________________________________________\n",
            "dense_2 (Dense)              (None, 256)               803072    \n",
            "_________________________________________________________________\n",
            "dropout_1 (Dropout)          (None, 256)               0         \n",
            "_________________________________________________________________\n",
            "dense_3 (Dense)              (None, 10)                2570      \n",
            "=================================================================\n",
            "Total params: 888,298\n",
            "Trainable params: 887,914\n",
            "Non-trainable params: 384\n",
            "_________________________________________________________________\n"
          ]
        }
      ]
    },
    {
      "cell_type": "code",
      "metadata": {
        "id": "H7QsKOLszl8V"
      },
      "source": [
        "model.compile(optimizer=\"adam\", loss=\"categorical_crossentropy\", metrics=[\"accuracy\"])\n",
        "learning_rate_reduction = ReduceLROnPlateau(monitor='val_accuracy', \n",
        "                                            patience=3, \n",
        "                                            verbose=1, \n",
        "                                            factor=0.5, \n",
        "                                            min_lr=0.00001)"
      ],
      "execution_count": null,
      "outputs": []
    },
    {
      "cell_type": "code",
      "metadata": {
        "id": "sbg9HeVCzpzE"
      },
      "source": [
        "epochs = 30\n",
        "batch_size = 86"
      ],
      "execution_count": null,
      "outputs": []
    },
    {
      "cell_type": "code",
      "metadata": {
        "id": "2M3evHoP0Bh6"
      },
      "source": [
        "datagen = ImageDataGenerator(\n",
        "        featurewise_center=False,  \n",
        "        samplewise_center=False, \n",
        "        featurewise_std_normalization=False,    \n",
        "        samplewise_std_normalization=False, \n",
        "        zca_whitening=False,  \n",
        "        rotation_range=10, \n",
        "        zoom_range = 0.1,\n",
        "        width_shift_range=0.1, \n",
        "        height_shift_range=0.1, \n",
        "        horizontal_flip=False, \n",
        "        vertical_flip=False) \n",
        "\n",
        "\n",
        "datagen.fit(training_images)"
      ],
      "execution_count": null,
      "outputs": []
    },
    {
      "cell_type": "code",
      "metadata": {
        "colab": {
          "base_uri": "https://localhost:8080/"
        },
        "id": "xV4YttQc0B4j",
        "outputId": "df272163-031c-45ae-8cb1-b8d4d0e33149"
      },
      "source": [
        "history = model.fit(datagen.flow(training_images,training_labels, batch_size=batch_size),\n",
        "                              epochs = epochs, \n",
        "                              validation_data = (test_images,test_labels),\n",
        "                              verbose = 2, steps_per_epoch=training_images.shape[0] // batch_size,\n",
        "                              callbacks=[learning_rate_reduction])"
      ],
      "execution_count": null,
      "outputs": [
        {
          "output_type": "stream",
          "name": "stdout",
          "text": [
            "Epoch 1/30\n",
            "697/697 - 26s - loss: 0.0813 - accuracy: 0.9784 - val_loss: 0.0441 - val_accuracy: 0.9882\n",
            "Epoch 2/30\n",
            "697/697 - 25s - loss: 0.0688 - accuracy: 0.9818 - val_loss: 0.0179 - val_accuracy: 0.9947\n",
            "Epoch 3/30\n",
            "697/697 - 25s - loss: 0.0600 - accuracy: 0.9836 - val_loss: 0.0234 - val_accuracy: 0.9934\n",
            "Epoch 4/30\n",
            "697/697 - 25s - loss: 0.0519 - accuracy: 0.9858 - val_loss: 0.0261 - val_accuracy: 0.9926\n",
            "Epoch 5/30\n",
            "697/697 - 25s - loss: 0.0477 - accuracy: 0.9872 - val_loss: 0.0191 - val_accuracy: 0.9946\n",
            "\n",
            "Epoch 00005: ReduceLROnPlateau reducing learning rate to 0.0005000000237487257.\n",
            "Epoch 6/30\n",
            "697/697 - 25s - loss: 0.0319 - accuracy: 0.9914 - val_loss: 0.0157 - val_accuracy: 0.9952\n",
            "Epoch 7/30\n",
            "697/697 - 25s - loss: 0.0289 - accuracy: 0.9915 - val_loss: 0.0159 - val_accuracy: 0.9950\n",
            "Epoch 8/30\n",
            "697/697 - 25s - loss: 0.0273 - accuracy: 0.9921 - val_loss: 0.0126 - val_accuracy: 0.9961\n",
            "Epoch 9/30\n",
            "697/697 - 25s - loss: 0.0250 - accuracy: 0.9931 - val_loss: 0.0148 - val_accuracy: 0.9953\n",
            "Epoch 10/30\n",
            "697/697 - 25s - loss: 0.0255 - accuracy: 0.9927 - val_loss: 0.0163 - val_accuracy: 0.9949\n",
            "Epoch 11/30\n",
            "697/697 - 25s - loss: 0.0259 - accuracy: 0.9927 - val_loss: 0.0207 - val_accuracy: 0.9942\n",
            "\n",
            "Epoch 00011: ReduceLROnPlateau reducing learning rate to 0.0002500000118743628.\n",
            "Epoch 12/30\n",
            "697/697 - 25s - loss: 0.0196 - accuracy: 0.9942 - val_loss: 0.0171 - val_accuracy: 0.9957\n",
            "Epoch 13/30\n",
            "697/697 - 25s - loss: 0.0167 - accuracy: 0.9954 - val_loss: 0.0136 - val_accuracy: 0.9958\n",
            "Epoch 14/30\n",
            "697/697 - 25s - loss: 0.0165 - accuracy: 0.9953 - val_loss: 0.0150 - val_accuracy: 0.9952\n",
            "\n",
            "Epoch 00014: ReduceLROnPlateau reducing learning rate to 0.0001250000059371814.\n",
            "Epoch 15/30\n",
            "697/697 - 26s - loss: 0.0130 - accuracy: 0.9964 - val_loss: 0.0140 - val_accuracy: 0.9959\n",
            "Epoch 16/30\n",
            "697/697 - 25s - loss: 0.0131 - accuracy: 0.9959 - val_loss: 0.0130 - val_accuracy: 0.9961\n",
            "Epoch 17/30\n",
            "697/697 - 26s - loss: 0.0124 - accuracy: 0.9963 - val_loss: 0.0149 - val_accuracy: 0.9957\n",
            "\n",
            "Epoch 00017: ReduceLROnPlateau reducing learning rate to 6.25000029685907e-05.\n",
            "Epoch 18/30\n",
            "697/697 - 25s - loss: 0.0104 - accuracy: 0.9969 - val_loss: 0.0121 - val_accuracy: 0.9965\n",
            "Epoch 19/30\n",
            "697/697 - 25s - loss: 0.0109 - accuracy: 0.9967 - val_loss: 0.0135 - val_accuracy: 0.9958\n",
            "Epoch 20/30\n",
            "697/697 - 25s - loss: 0.0102 - accuracy: 0.9970 - val_loss: 0.0131 - val_accuracy: 0.9965\n",
            "Epoch 21/30\n",
            "697/697 - 25s - loss: 0.0107 - accuracy: 0.9969 - val_loss: 0.0147 - val_accuracy: 0.9964\n",
            "\n",
            "Epoch 00021: ReduceLROnPlateau reducing learning rate to 3.125000148429535e-05.\n",
            "Epoch 22/30\n",
            "697/697 - 25s - loss: 0.0106 - accuracy: 0.9967 - val_loss: 0.0139 - val_accuracy: 0.9962\n",
            "Epoch 23/30\n",
            "697/697 - 25s - loss: 0.0101 - accuracy: 0.9968 - val_loss: 0.0133 - val_accuracy: 0.9962\n",
            "Epoch 24/30\n",
            "697/697 - 25s - loss: 0.0102 - accuracy: 0.9969 - val_loss: 0.0132 - val_accuracy: 0.9962\n",
            "\n",
            "Epoch 00024: ReduceLROnPlateau reducing learning rate to 1.5625000742147677e-05.\n",
            "Epoch 25/30\n",
            "697/697 - 25s - loss: 0.0097 - accuracy: 0.9969 - val_loss: 0.0128 - val_accuracy: 0.9964\n",
            "Epoch 26/30\n",
            "697/697 - 25s - loss: 0.0094 - accuracy: 0.9970 - val_loss: 0.0127 - val_accuracy: 0.9962\n",
            "Epoch 27/30\n",
            "697/697 - 25s - loss: 0.0099 - accuracy: 0.9970 - val_loss: 0.0127 - val_accuracy: 0.9965\n",
            "\n",
            "Epoch 00027: ReduceLROnPlateau reducing learning rate to 1e-05.\n",
            "Epoch 28/30\n",
            "697/697 - 25s - loss: 0.0088 - accuracy: 0.9974 - val_loss: 0.0125 - val_accuracy: 0.9965\n",
            "Epoch 29/30\n",
            "697/697 - 25s - loss: 0.0082 - accuracy: 0.9975 - val_loss: 0.0125 - val_accuracy: 0.9963\n",
            "Epoch 30/30\n",
            "697/697 - 25s - loss: 0.0094 - accuracy: 0.9970 - val_loss: 0.0123 - val_accuracy: 0.9966\n"
          ]
        }
      ]
    },
    {
      "cell_type": "code",
      "metadata": {
        "colab": {
          "base_uri": "https://localhost:8080/",
          "height": 282
        },
        "id": "rQajHW0z8P7H",
        "outputId": "e4549e8e-d736-43f4-9311-058fa2cbae93"
      },
      "source": [
        "history_df = pd.DataFrame(history.history)\n",
        "history_df.loc[:, ['loss', 'val_loss']].plot()\n",
        "print(\"Minimum Validation Loss: {:0.4f}\".format(history_df['val_loss'].min()))\n"
      ],
      "execution_count": null,
      "outputs": [
        {
          "output_type": "stream",
          "name": "stdout",
          "text": [
            "Minimum Validation Loss: 0.0121\n"
          ]
        },
        {
          "output_type": "display_data",
          "data": {
            "image/png": "[encoded data removed]",
            "text/plain": [
              "<Figure size 432x288 with 1 Axes>"
            ]
          },
          "metadata": {
            "needs_background": "light"
          }
        }
      ]
    },
    {
      "cell_type": "code",
      "metadata": {
        "id": "h0EGoXiP8Ybf"
      },
      "source": [
        ""
      ],
      "execution_count": null,
      "outputs": []
    }
  ]
}