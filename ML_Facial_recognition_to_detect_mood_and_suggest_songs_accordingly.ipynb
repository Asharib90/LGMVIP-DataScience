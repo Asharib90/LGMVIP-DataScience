{
  "nbformat": 4,
  "nbformat_minor": 0,
  "metadata": {
    "colab": {
      "name": "ML Facial recognition to detect mood and suggest songs accordingly.ipynb",
      "provenance": [],
      "collapsed_sections": []
    },
    "kernelspec": {
      "name": "python3",
      "display_name": "Python 3"
    },
    "language_info": {
      "name": "python"
    },
    "accelerator": "GPU"
  },
  "cells": [
    {
      "cell_type": "code",
      "metadata": {
        "id": "hY3rjSHg__C_"
      },
      "source": [
        "%%capture\n",
        "!pip install pillow"
      ],
      "execution_count": null,
      "outputs": []
    },
    {
      "cell_type": "code",
      "metadata": {
        "id": "Zjsql6DKlq2J"
      },
      "source": [
        "import warnings \n",
        "import requests\n",
        "import numpy as np \n",
        "import pandas as pd\n",
        "from PIL import Image\n",
        "import tensorflow as tf \n",
        "from collections import defaultdict\n",
        "from tensorflow.keras import regularizers\n",
        "from tensorflow.keras.utils import Sequence\n",
        "from tensorflow.keras.models import Model ,Sequential\n",
        "from tensorflow.keras.callbacks import ModelCheckpoint\n",
        "from tensorflow.keras.applications import VGG16 , EfficientNetB7\n",
        "from tensorflow.keras.preprocessing.image import ImageDataGenerator\n",
        "from tensorflow.keras.layers import Dense,Conv2D,Dropout,MaxPool2D,BatchNormalization,Input,Flatten,GlobalAveragePooling2D\n",
        "\n",
        "warnings.filterwarnings(\"ignore\")"
      ],
      "execution_count": 3,
      "outputs": []
    },
    {
      "cell_type": "code",
      "metadata": {
        "id": "1oJCepHHmcWe"
      },
      "source": [
        "!mkdir -p ~/.kaggle\n",
        "!cp kaggle.json ~/.kaggle/\n",
        "!chmod 600 ~/.kaggle/kaggle.json"
      ],
      "execution_count": 3,
      "outputs": []
    },
    {
      "cell_type": "code",
      "metadata": {
        "id": "_FM-uHqlmezD"
      },
      "source": [
        "%%capture\n",
        "!kaggle datasets download -d msambare/fer2013\n",
        "!kaggle datasets download -d musicblogger/spotify-music-data-to-identify-the-moods"
      ],
      "execution_count": 4,
      "outputs": []
    },
    {
      "cell_type": "code",
      "metadata": {
        "id": "sl0p_1ehnrnZ"
      },
      "source": [
        "%%capture\n",
        "!unzip /content/fer2013.zip\n",
        "!unzip /content/spotify-music-data-to-identify-the-moods.zip"
      ],
      "execution_count": 5,
      "outputs": []
    },
    {
      "cell_type": "code",
      "metadata": {
        "colab": {
          "base_uri": "https://localhost:8080/",
          "height": 348
        },
        "id": "Y5rf9tO-uJAT",
        "outputId": "5fad12af-ca81-4d67-b8fd-6b8d40117379"
      },
      "source": [
        "data=pd.read_csv('/content/data_moods.csv')\n",
        "data.head()"
      ],
      "execution_count": 5,
      "outputs": [
        {
          "output_type": "execute_result",
          "data": {
            "text/html": [
              "<div>\n",
              "<style scoped>\n",
              "    .dataframe tbody tr th:only-of-type {\n",
              "        vertical-align: middle;\n",
              "    }\n",
              "\n",
              "    .dataframe tbody tr th {\n",
              "        vertical-align: top;\n",
              "    }\n",
              "\n",
              "    .dataframe thead th {\n",
              "        text-align: right;\n",
              "    }\n",
              "</style>\n",
              "<table border=\"1\" class=\"dataframe\">\n",
              "  <thead>\n",
              "    <tr style=\"text-align: right;\">\n",
              "      <th></th>\n",
              "      <th>name</th>\n",
              "      <th>album</th>\n",
              "      <th>artist</th>\n",
              "      <th>id</th>\n",
              "      <th>release_date</th>\n",
              "      <th>popularity</th>\n",
              "      <th>length</th>\n",
              "      <th>danceability</th>\n",
              "      <th>acousticness</th>\n",
              "      <th>energy</th>\n",
              "      <th>instrumentalness</th>\n",
              "      <th>liveness</th>\n",
              "      <th>valence</th>\n",
              "      <th>loudness</th>\n",
              "      <th>speechiness</th>\n",
              "      <th>tempo</th>\n",
              "      <th>key</th>\n",
              "      <th>time_signature</th>\n",
              "      <th>mood</th>\n",
              "    </tr>\n",
              "  </thead>\n",
              "  <tbody>\n",
              "    <tr>\n",
              "      <th>0</th>\n",
              "      <td>1999</td>\n",
              "      <td>1999</td>\n",
              "      <td>Prince</td>\n",
              "      <td>2H7PHVdQ3mXqEHXcvclTB0</td>\n",
              "      <td>1982-10-27</td>\n",
              "      <td>68</td>\n",
              "      <td>379266</td>\n",
              "      <td>0.866</td>\n",
              "      <td>0.13700</td>\n",
              "      <td>0.730</td>\n",
              "      <td>0.000000</td>\n",
              "      <td>0.0843</td>\n",
              "      <td>0.625</td>\n",
              "      <td>-8.201</td>\n",
              "      <td>0.0767</td>\n",
              "      <td>118.523</td>\n",
              "      <td>5</td>\n",
              "      <td>4</td>\n",
              "      <td>Happy</td>\n",
              "    </tr>\n",
              "    <tr>\n",
              "      <th>1</th>\n",
              "      <td>23</td>\n",
              "      <td>23</td>\n",
              "      <td>Blonde Redhead</td>\n",
              "      <td>4HIwL9ii9CcXpTOTzMq0MP</td>\n",
              "      <td>2007-04-16</td>\n",
              "      <td>43</td>\n",
              "      <td>318800</td>\n",
              "      <td>0.381</td>\n",
              "      <td>0.01890</td>\n",
              "      <td>0.832</td>\n",
              "      <td>0.196000</td>\n",
              "      <td>0.1530</td>\n",
              "      <td>0.166</td>\n",
              "      <td>-5.069</td>\n",
              "      <td>0.0492</td>\n",
              "      <td>120.255</td>\n",
              "      <td>8</td>\n",
              "      <td>4</td>\n",
              "      <td>Sad</td>\n",
              "    </tr>\n",
              "    <tr>\n",
              "      <th>2</th>\n",
              "      <td>9 Crimes</td>\n",
              "      <td>9</td>\n",
              "      <td>Damien Rice</td>\n",
              "      <td>5GZEeowhvSieFDiR8fQ2im</td>\n",
              "      <td>2006-11-06</td>\n",
              "      <td>60</td>\n",
              "      <td>217946</td>\n",
              "      <td>0.346</td>\n",
              "      <td>0.91300</td>\n",
              "      <td>0.139</td>\n",
              "      <td>0.000077</td>\n",
              "      <td>0.0934</td>\n",
              "      <td>0.116</td>\n",
              "      <td>-15.326</td>\n",
              "      <td>0.0321</td>\n",
              "      <td>136.168</td>\n",
              "      <td>0</td>\n",
              "      <td>4</td>\n",
              "      <td>Sad</td>\n",
              "    </tr>\n",
              "    <tr>\n",
              "      <th>3</th>\n",
              "      <td>99 Luftballons</td>\n",
              "      <td>99 Luftballons</td>\n",
              "      <td>Nena</td>\n",
              "      <td>6HA97v4wEGQ5TUClRM0XLc</td>\n",
              "      <td>1984-08-21</td>\n",
              "      <td>2</td>\n",
              "      <td>233000</td>\n",
              "      <td>0.466</td>\n",
              "      <td>0.08900</td>\n",
              "      <td>0.438</td>\n",
              "      <td>0.000006</td>\n",
              "      <td>0.1130</td>\n",
              "      <td>0.587</td>\n",
              "      <td>-12.858</td>\n",
              "      <td>0.0608</td>\n",
              "      <td>193.100</td>\n",
              "      <td>4</td>\n",
              "      <td>4</td>\n",
              "      <td>Happy</td>\n",
              "    </tr>\n",
              "    <tr>\n",
              "      <th>4</th>\n",
              "      <td>A Boy Brushed Red Living In Black And White</td>\n",
              "      <td>They're Only Chasing Safety</td>\n",
              "      <td>Underoath</td>\n",
              "      <td>47IWLfIKOKhFnz1FUEUIkE</td>\n",
              "      <td>2004-01-01</td>\n",
              "      <td>60</td>\n",
              "      <td>268000</td>\n",
              "      <td>0.419</td>\n",
              "      <td>0.00171</td>\n",
              "      <td>0.932</td>\n",
              "      <td>0.000000</td>\n",
              "      <td>0.1370</td>\n",
              "      <td>0.445</td>\n",
              "      <td>-3.604</td>\n",
              "      <td>0.1060</td>\n",
              "      <td>169.881</td>\n",
              "      <td>1</td>\n",
              "      <td>4</td>\n",
              "      <td>Energetic</td>\n",
              "    </tr>\n",
              "  </tbody>\n",
              "</table>\n",
              "</div>"
            ],
            "text/plain": [
              "                                          name  ...       mood\n",
              "0                                         1999  ...      Happy\n",
              "1                                           23  ...        Sad\n",
              "2                                     9 Crimes  ...        Sad\n",
              "3                               99 Luftballons  ...      Happy\n",
              "4  A Boy Brushed Red Living In Black And White  ...  Energetic\n",
              "\n",
              "[5 rows x 19 columns]"
            ]
          },
          "metadata": {},
          "execution_count": 5
        }
      ]
    },
    {
      "cell_type": "code",
      "metadata": {
        "id": "_GbfKdPiuJDM"
      },
      "source": [
        "data=data[['name','mood']]"
      ],
      "execution_count": 6,
      "outputs": []
    },
    {
      "cell_type": "code",
      "metadata": {
        "id": "AG4QIV_2n7nC"
      },
      "source": [
        "vgg = EfficientNetB7(weights=\"imagenet\",include_top=False ,input_shape=(72,72,3),pooling=\"avg\")"
      ],
      "execution_count": 7,
      "outputs": []
    },
    {
      "cell_type": "code",
      "metadata": {
        "id": "R0Vy2y4vtAVf"
      },
      "source": [
        "for layer in vgg.layers[-6:] :\n",
        "  layer.trainable = True\n",
        "x = vgg.output\n",
        "x = BatchNormalization()(x)\n",
        "x = Dropout(0.25)(x)\n",
        "predictions = Dense(512,activation=\"relu\",kernel_regularizer=regularizers.l2(0.0001))(x)\n",
        "predictions= BatchNormalization()(predictions)\n",
        "predictions = Dropout(0.25)(predictions)\n",
        "predictions = Dense(128,activation=\"relu\",kernel_regularizer=regularizers.l2(0.0001))(predictions)\n",
        "predictions = BatchNormalization()(predictions)\n",
        "predictions = Dropout(0.25)(predictions)\n",
        "predictions = Dense(7,activation=\"softmax\")(predictions)\n",
        "model_VGG = Model(vgg.input,predictions)\n",
        "\n",
        "model_VGG.compile(optimizer=tf.keras.optimizers.Adam(learning_rate=5e-5),loss=\\\n",
        "                [tf.keras.losses.CategoricalCrossentropy()],metrics=[\"accuracy\"])"
      ],
      "execution_count": 8,
      "outputs": []
    },
    {
      "cell_type": "code",
      "metadata": {
        "id": "A5NV4TIvtCW_"
      },
      "source": [
        "val_generator = ImageDataGenerator(rescale=1/255)\n",
        "\n",
        "train_generator = ImageDataGenerator(rescale = 1/255,\n",
        "                                  zoom_range=0.3,\n",
        "                                  shear_range=0.3,\n",
        "                                  horizontal_flip=True,\n",
        "                                  rotation_range=30,\n",
        "                                  fill_mode=\"nearest\")\n"
      ],
      "execution_count": 9,
      "outputs": []
    },
    {
      "cell_type": "code",
      "metadata": {
        "colab": {
          "base_uri": "https://localhost:8080/"
        },
        "id": "lXDWPh7ptEBI",
        "outputId": "51c6aedd-2533-45ed-ef02-b0bf49c1a9ce"
      },
      "source": [
        "val_data = val_generator.flow_from_directory(\"/content/test\",\n",
        "                                             batch_size= 64,\n",
        "                                             target_size=(72,72),\n",
        "                                             color_mode=\"rgb\",\n",
        "                                             interpolation=\"nearest\")\n",
        "train_data = train_generator.flow_from_directory(\"/content/train\",\n",
        "                                          batch_size= 64,\n",
        "                                          target_size=(72,72),\n",
        "                                          color_mode=\"rgb\",\n",
        "                                          interpolation=\"nearest\")"
      ],
      "execution_count": 10,
      "outputs": [
        {
          "output_type": "stream",
          "name": "stdout",
          "text": [
            "Found 7178 images belonging to 7 classes.\n",
            "Found 28709 images belonging to 7 classes.\n"
          ]
        }
      ]
    },
    {
      "cell_type": "code",
      "metadata": {
        "id": "IqpKOXtZtHJM"
      },
      "source": [
        "vgg_step = ModelCheckpoint(\"vgg_step1.h5\",monitor=\"val_accuracy\",mode=\"max\",save_best_only=True,\\\n",
        "                            save_weights_only=True,verbose=1)\n"
      ],
      "execution_count": 11,
      "outputs": []
    },
    {
      "cell_type": "code",
      "metadata": {
        "colab": {
          "base_uri": "https://localhost:8080/"
        },
        "id": "Uu2tlKTJtP7S",
        "outputId": "22690d99-f8f4-44b1-e119-84189b523b2b"
      },
      "source": [
        "model_VGG.fit(train_data,validation_data=val_data,epochs=1,callbacks=[vgg_step])"
      ],
      "execution_count": 12,
      "outputs": [
        {
          "output_type": "stream",
          "name": "stdout",
          "text": [
            "449/449 [==============================] - 577s 1s/step - loss: 2.6196 - accuracy: 0.1880 - val_loss: 2.1367 - val_accuracy: 0.1793\n",
            "\n",
            "Epoch 00001: val_accuracy improved from -inf to 0.17930, saving model to vgg_step1.h5\n"
          ]
        },
        {
          "output_type": "execute_result",
          "data": {
            "text/plain": [
              "<keras.callbacks.History at 0x7f83bf137dd0>"
            ]
          },
          "metadata": {},
          "execution_count": 12
        }
      ]
    },
    {
      "cell_type": "markdown",
      "metadata": {
        "id": "W1wCtAAuAhOt"
      },
      "source": [
        "#Now predict a new image"
      ]
    },
    {
      "cell_type": "code",
      "metadata": {
        "id": "YtVmKGz25etx"
      },
      "source": [
        "img = Image.open(requests.get('https://image.shutterstock.com/image-photo/close-portrait-smiling-handsome-man-260nw-1011569245.jpg', stream=True).raw)\n",
        "image = img.resize((72,72))\n",
        "image = np.array(resized_image).reshape(1,72,72,3)"
      ],
      "execution_count": 62,
      "outputs": []
    },
    {
      "cell_type": "code",
      "metadata": {
        "colab": {
          "base_uri": "https://localhost:8080/",
          "height": 297
        },
        "id": "KpZtSVCP-m_n",
        "outputId": "6930598e-c52c-4abc-e117-534cce527656"
      },
      "source": [
        "img"
      ],
      "execution_count": 63,
      "outputs": [
        {
          "output_type": "execute_result",
          "data": {
            "image/png": "[encoded data removed]",
            "text/plain": [
              "<PIL.JpegImagePlugin.JpegImageFile image mode=RGB size=390x280 at 0x7F8353CC1E10>"
            ]
          },
          "metadata": {},
          "execution_count": 63
        }
      ]
    },
    {
      "cell_type": "code",
      "metadata": {
        "id": "7qFi7-739XGj"
      },
      "source": [
        "prediction=model_VGG.predict(image)\n",
        "mood = np.where(prediction == np.amax(prediction))[1][0]"
      ],
      "execution_count": 67,
      "outputs": []
    },
    {
      "cell_type": "code",
      "metadata": {
        "id": "sm7vdoCayhcr"
      },
      "source": [
        "#Here i apply technique from my own logic on base of people like to listen what type of song according to their mood\n",
        "\n",
        "if mood == 0:\n",
        "  song = data.loc[data.mood == 'Happy'].sample().name.tolist()[0]\n",
        "elif  mood == 1:\n",
        "  song = data.loc[data.mood == 'Happy'].sample().name.tolist()[0]\n",
        "elif  mood == 2:\n",
        "  song = data.loc[data.mood == 'Calm'].sample().name.tolist()[0]\n",
        "elif  mood == 3:\n",
        "  song = data.loc[data.mood == 'Calm'].sample().name.tolist()[0]\n",
        "elif  mood == 4:\n",
        "  song = data.loc[data.mood == 'Sad'].sample().name.tolist()[0]\n",
        "elif  mood == 5:\n",
        "  song = data.loc[data.mood == 'Energetic'].sample().name.tolist()[0]\n",
        "else:\n",
        "  song = data.sample().name.tolist()[0]\n"
      ],
      "execution_count": 68,
      "outputs": []
    },
    {
      "cell_type": "code",
      "metadata": {
        "id": "P-T1BXrn1sD-"
      },
      "source": [
        "moods = ['Angry', 'Disgust', 'Fear', 'Happy', 'Sad', 'Surprise', 'Neutral']"
      ],
      "execution_count": 66,
      "outputs": []
    },
    {
      "cell_type": "code",
      "metadata": {
        "colab": {
          "base_uri": "https://localhost:8080/"
        },
        "id": "LRPel1z2_LGh",
        "outputId": "49a45f50-7a34-4e05-97ae-f2a846c541fb"
      },
      "source": [
        "print('Mood is {0} \\nAnd suggested son is {1}'.format(moods[mood],song))"
      ],
      "execution_count": 70,
      "outputs": [
        {
          "output_type": "stream",
          "name": "stdout",
          "text": [
            "Mood is Surprise \n",
            "And suggested son is Anthem of Our Dying Day\n"
          ]
        }
      ]
    },
    {
      "cell_type": "code",
      "metadata": {
        "id": "dCYtbwXl_reY"
      },
      "source": [
        ""
      ],
      "execution_count": null,
      "outputs": []
    }
  ]
}